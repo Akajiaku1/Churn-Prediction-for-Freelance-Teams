{
 "cells": [
  {
   "cell_type": "markdown",
   "id": "2e130d54",
   "metadata": {},
   "source": [
    "# Freelance Team Churn Prediction\n",
    "This notebook demonstrates a churn prediction model for freelance teams using synthetic data."
   ]
  },
  {
   "cell_type": "code",
   "execution_count": null,
   "id": "9aba2d10",
   "metadata": {},
   "outputs": [],
   "source": [
    "import numpy as np\n",
    "import pandas as pd\n",
    "from sklearn.model_selection import train_test_split\n",
    "from sklearn.preprocessing import StandardScaler\n",
    "from sklearn.ensemble import RandomForestClassifier\n",
    "from sklearn.linear_model import LogisticRegression\n",
    "from sklearn.metrics import classification_report, confusion_matrix, accuracy_score\n",
    "import matplotlib.pyplot as plt\n",
    "import seaborn as sns\n",
    "\n",
    "np.random.seed(42)"
   ]
  },
  {
   "cell_type": "markdown",
   "id": "9d9d0304",
   "metadata": {},
   "source": [
    "## Generate Synthetic Data"
   ]
  },
  {
   "cell_type": "code",
   "execution_count": null,
   "id": "514e9bff",
   "metadata": {},
   "outputs": [],
   "source": [
    "n_samples = 1000\n",
    "\n",
    "df = pd.DataFrame({\n",
    "    'team_size': np.random.randint(1, 15, size=n_samples),\n",
    "    'avg_monthly_projects': np.random.poisson(3, size=n_samples),\n",
    "    'avg_project_value': np.random.normal(500, 200, size=n_samples).clip(100, 2000),\n",
    "    'client_rating': np.random.uniform(2.5, 5.0, size=n_samples),\n",
    "    'deadline_meeting_rate': np.random.uniform(0.5, 1.0, size=n_samples),\n",
    "    'communication_score': np.random.uniform(0, 10, size=n_samples),\n",
    "    'dispute_count': np.random.poisson(1, size=n_samples),\n",
    "    'contract_extension_rate': np.random.uniform(0.0, 1.0, size=n_samples),\n",
    "    'is_churned': np.random.choice([0, 1], size=n_samples, p=[0.7, 0.3])\n",
    "})\n",
    "\n",
    "df.head()"
   ]
  },
  {
   "cell_type": "markdown",
   "id": "0945b8f3",
   "metadata": {},
   "source": [
    "## Preprocessing"
   ]
  },
  {
   "cell_type": "code",
   "execution_count": null,
   "id": "c57d37c9",
   "metadata": {},
   "outputs": [],
   "source": [
    "X = df.drop('is_churned', axis=1)\n",
    "y = df['is_churned']\n",
    "\n",
    "scaler = StandardScaler()\n",
    "X_scaled = scaler.fit_transform(X)\n",
    "\n",
    "X_train, X_test, y_train, y_test = train_test_split(X_scaled, y, test_size=0.2, random_state=42)"
   ]
  },
  {
   "cell_type": "markdown",
   "id": "426991ce",
   "metadata": {},
   "source": [
    "## Train Models"
   ]
  },
  {
   "cell_type": "code",
   "execution_count": null,
   "id": "7a7b6de1",
   "metadata": {},
   "outputs": [],
   "source": [
    "models = {\n",
    "    \"Logistic Regression\": LogisticRegression(max_iter=200),\n",
    "    \"Random Forest\": RandomForestClassifier(n_estimators=100)\n",
    "}\n",
    "\n",
    "for name, model in models.items():\n",
    "    model.fit(X_train, y_train)\n",
    "    y_pred = model.predict(X_test)\n",
    "    print(f\"\\n=== {name} ===\")\n",
    "    print(\"Accuracy:\", accuracy_score(y_test, y_pred))\n",
    "    print(\"Classification Report:\\n\", classification_report(y_test, y_pred))\n",
    "    print(\"Confusion Matrix:\\n\", confusion_matrix(y_test, y_pred))"
   ]
  }
 ],
 "metadata": {},
 "nbformat": 4,
 "nbformat_minor": 5
}
